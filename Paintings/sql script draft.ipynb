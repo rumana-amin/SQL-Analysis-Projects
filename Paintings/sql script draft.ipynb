{
 "cells": [
  {
   "cell_type": "code",
   "execution_count": null,
   "metadata": {},
   "outputs": [],
   "source": [
    "#Import necessary libraries\n",
    "import sqlalchemy, pyodbc, os\n",
    "import pandas as pd"
   ]
  },
  {
   "cell_type": "code",
   "execution_count": null,
   "metadata": {},
   "outputs": [],
   "source": [
    "# TO change the current directory\n",
    "os.chdir(r'D:\\SQL\\techTFQ\\Painting\\Datasets')\n",
    "# To get the current directory\n",
    "os.getcwd()"
   ]
  },
  {
   "cell_type": "code",
   "execution_count": null,
   "metadata": {},
   "outputs": [],
   "source": [
    "print(os.listdir())"
   ]
  },
  {
   "cell_type": "code",
   "execution_count": null,
   "metadata": {},
   "outputs": [],
   "source": [
    "# To get the SystemName/Hostname\n",
    "import platform\n",
    "print(platform.node())\n",
    "\n",
    "# Another way to get the hostname\n",
    "import socket\n",
    "socket.gethostname()"
   ]
  },
  {
   "cell_type": "code",
   "execution_count": null,
   "metadata": {},
   "outputs": [],
   "source": [
    "# Check odbc drivers\n",
    "pyodbc.drivers()"
   ]
  },
  {
   "cell_type": "code",
   "execution_count": null,
   "metadata": {},
   "outputs": [],
   "source": [
    "# Create sql server connection: System Name/Database Name?odbc driver name\n",
    "conn = sqlalchemy.create_engine(f'mssql+pyodbc://{socket.gethostname()}/Painting?trusted_connection=yes&driver=ODBC Driver 17 for SQL Server')"
   ]
  },
  {
   "cell_type": "code",
   "execution_count": null,
   "metadata": {},
   "outputs": [],
   "source": [
    "df = pd.read_csv(r'D:\\SQL\\techTFQ\\Painting\\Datasets\\artist.csv')\n",
    "#print(df.info)\n",
    "df.to_sql('artist', con = conn, if_exists= 'replace', index=False)"
   ]
  },
  {
   "cell_type": "code",
   "execution_count": null,
   "metadata": {},
   "outputs": [],
   "source": [
    "# List of the csv files\n",
    "files = ['artist', 'canvas_size', 'image_link', 'museum', 'museum_hours', 'product_size', 'subject', 'work']\n",
    "\n",
    "# Create a dictionary to store DataFrames\n",
    "dfs = {}\n",
    "\n",
    "# Loop through each file and read its data into a separate DataFrame\n",
    "for file in files:\n",
    "    dfs[file] = pd.read_csv(fr'D:\\SQL\\techTFQ\\Painting\\Datasets\\{file}.csv')\n",
    "    table_name = file\n",
    "    dfs[file].to_sql(table_name, con = conn, if_exists= 'replace', index=False)\n",
    "\n",
    "# Now, dfs dictionary contains a separate DataFrame for each CSV file\n",
    "# Access them using dfs['artist'], dfs['canvas_size'], etc.\n"
   ]
  },
  {
   "cell_type": "code",
   "execution_count": null,
   "metadata": {},
   "outputs": [],
   "source": [
    "# Close the database connection when done\n",
    "conn.dispose()"
   ]
  },
  {
   "cell_type": "code",
   "execution_count": null,
   "metadata": {},
   "outputs": [],
   "source": [
    "files = ['artist', 'canvas_size', 'image_link', 'museum', 'museum_hours', 'product_size', 'subject', 'work']\n",
    "for file in files:\n",
    "    df = pd.read_csv(fr'D:\\SQL\\techTFQ\\Painting\\Datasets\\{file}.csv')\n",
    "\n",
    "    df.to_sql('file', con = conn, if_exists= 'replace', index=False)"
   ]
  }
 ],
 "metadata": {
  "kernelspec": {
   "display_name": "Python 3",
   "language": "python",
   "name": "python3"
  },
  "language_info": {
   "codemirror_mode": {
    "name": "ipython",
    "version": 3
   },
   "file_extension": ".py",
   "mimetype": "text/x-python",
   "name": "python",
   "nbconvert_exporter": "python",
   "pygments_lexer": "ipython3",
   "version": "3.11.3"
  }
 },
 "nbformat": 4,
 "nbformat_minor": 2
}
